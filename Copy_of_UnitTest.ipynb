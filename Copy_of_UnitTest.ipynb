{
  "nbformat": 4,
  "nbformat_minor": 0,
  "metadata": {
    "colab": {
      "provenance": [],
      "authorship_tag": "ABX9TyOkQQHgthAbhXl4Sf0ad5rH",
      "include_colab_link": true
    },
    "kernelspec": {
      "name": "python3",
      "display_name": "Python 3"
    },
    "language_info": {
      "name": "python"
    }
  },
  "cells": [
    {
      "cell_type": "markdown",
      "metadata": {
        "id": "view-in-github",
        "colab_type": "text"
      },
      "source": [
        "<a href=\"https://colab.research.google.com/github/jcnzamb/gitdemo/blob/main/Copy_of_UnitTest.ipynb\" target=\"_parent\"><img src=\"https://colab.research.google.com/assets/colab-badge.svg\" alt=\"Open In Colab\"/></a>"
      ]
    },
    {
      "cell_type": "code",
      "execution_count": null,
      "metadata": {
        "id": "VMUedc3cb4af"
      },
      "outputs": [],
      "source": [
        "import pytest\n",
        "\n",
        "\n",
        "#Production Code\n",
        "\n",
        "def str_len (theStr):\n",
        "    return len(theStr)\n",
        "\n",
        "# A Unit Test\n",
        "def test_string_length():\n",
        "    testStr = \"1\"   #setup\n",
        "    result = str_len(testStr)   #Action\n",
        "    assert result == 1   #Assert"
      ]
    },
    {
      "cell_type": "code",
      "source": [
        "test_string_length()"
      ],
      "metadata": {
        "id": "0gAO5I-rcG85"
      },
      "execution_count": null,
      "outputs": []
    },
    {
      "cell_type": "code",
      "source": [
        "def test(n):\n",
        "  if n == 1:\n",
        "    return n\n",
        "  elif n == 2:\n",
        "    return n\n",
        "  elif n == 3:\n",
        "    return 'Fizz'\n",
        "  elif n == 5:\n",
        "    return 'Buzz'\n",
        "  elif n % 3 == 0:\n",
        "    return 'Fizz'"
      ],
      "metadata": {
        "id": "EtZ_OCLmcLuu"
      },
      "execution_count": null,
      "outputs": []
    },
    {
      "cell_type": "code",
      "source": [
        "test(1)"
      ],
      "metadata": {
        "colab": {
          "base_uri": "https://localhost:8080/"
        },
        "id": "4qtk-H3JfMY3",
        "outputId": "b654acf7-b62d-4aad-913b-07e2fad75727"
      },
      "execution_count": null,
      "outputs": [
        {
          "output_type": "execute_result",
          "data": {
            "text/plain": [
              "1"
            ]
          },
          "metadata": {},
          "execution_count": 4
        }
      ]
    },
    {
      "cell_type": "code",
      "source": [
        "test(2)"
      ],
      "metadata": {
        "colab": {
          "base_uri": "https://localhost:8080/"
        },
        "id": "5_Egg_NjfNub",
        "outputId": "cf6e9096-577e-44ba-be04-8ae00d0d0125"
      },
      "execution_count": null,
      "outputs": [
        {
          "output_type": "execute_result",
          "data": {
            "text/plain": [
              "2"
            ]
          },
          "metadata": {},
          "execution_count": 5
        }
      ]
    },
    {
      "cell_type": "code",
      "source": [
        "test(3)"
      ],
      "metadata": {
        "colab": {
          "base_uri": "https://localhost:8080/",
          "height": 36
        },
        "id": "Adcjly1WfOp3",
        "outputId": "4bbfa06d-1f55-4460-a8b7-344dfd4b967e"
      },
      "execution_count": null,
      "outputs": [
        {
          "output_type": "execute_result",
          "data": {
            "text/plain": [
              "'Fizz'"
            ],
            "application/vnd.google.colaboratory.intrinsic+json": {
              "type": "string"
            }
          },
          "metadata": {},
          "execution_count": 6
        }
      ]
    },
    {
      "cell_type": "code",
      "source": [
        "test(5)"
      ],
      "metadata": {
        "colab": {
          "base_uri": "https://localhost:8080/",
          "height": 36
        },
        "id": "GaBhUwxQfPsZ",
        "outputId": "4e1df3bc-64dc-4060-d197-f1a5c5cd7db6"
      },
      "execution_count": null,
      "outputs": [
        {
          "output_type": "execute_result",
          "data": {
            "text/plain": [
              "'Buzz'"
            ],
            "application/vnd.google.colaboratory.intrinsic+json": {
              "type": "string"
            }
          },
          "metadata": {},
          "execution_count": 7
        }
      ]
    },
    {
      "cell_type": "code",
      "source": [
        "test(6)"
      ],
      "metadata": {
        "colab": {
          "base_uri": "https://localhost:8080/",
          "height": 36
        },
        "id": "6bgBNlKlfR2D",
        "outputId": "148a3557-bd44-4838-851b-ccbe88a9a880"
      },
      "execution_count": null,
      "outputs": [
        {
          "output_type": "execute_result",
          "data": {
            "text/plain": [
              "'Fizz'"
            ],
            "application/vnd.google.colaboratory.intrinsic+json": {
              "type": "string"
            }
          },
          "metadata": {},
          "execution_count": 9
        }
      ]
    },
    {
      "cell_type": "code",
      "source": [
        "def test(n):\n",
        "  if n == 1:\n",
        "    return n\n",
        "  elif n == 2:\n",
        "    return n\n",
        "  elif n == 3:\n",
        "    return 'Fizz'\n",
        "  elif n == 5:\n",
        "    return 'Buzz'\n",
        "  elif n % 3 == 0:\n",
        "    return 'Fizz 2'"
      ],
      "metadata": {
        "id": "igMsSp1tfwjZ"
      },
      "execution_count": null,
      "outputs": []
    },
    {
      "cell_type": "code",
      "source": [
        "test(3)"
      ],
      "metadata": {
        "colab": {
          "base_uri": "https://localhost:8080/",
          "height": 36
        },
        "id": "tPdRx41MfzN_",
        "outputId": "542cfb27-b20c-4495-c605-a2bf42beff4e"
      },
      "execution_count": null,
      "outputs": [
        {
          "output_type": "execute_result",
          "data": {
            "text/plain": [
              "'Fizz'"
            ],
            "application/vnd.google.colaboratory.intrinsic+json": {
              "type": "string"
            }
          },
          "metadata": {},
          "execution_count": 11
        }
      ]
    },
    {
      "cell_type": "code",
      "source": [
        "test(9)"
      ],
      "metadata": {
        "colab": {
          "base_uri": "https://localhost:8080/",
          "height": 36
        },
        "id": "S7Yastl3f00K",
        "outputId": "2d876e58-2e4c-47c0-e7bb-ff43921cfc83"
      },
      "execution_count": null,
      "outputs": [
        {
          "output_type": "execute_result",
          "data": {
            "text/plain": [
              "'Fizz 2'"
            ],
            "application/vnd.google.colaboratory.intrinsic+json": {
              "type": "string"
            }
          },
          "metadata": {},
          "execution_count": 12
        }
      ]
    },
    {
      "cell_type": "code",
      "source": [
        "test(6)"
      ],
      "metadata": {
        "colab": {
          "base_uri": "https://localhost:8080/",
          "height": 36
        },
        "id": "0aYjxG_7f2pK",
        "outputId": "9aff31ef-a012-4362-f001-47b5624299bf"
      },
      "execution_count": null,
      "outputs": [
        {
          "output_type": "execute_result",
          "data": {
            "text/plain": [
              "'Fizz 2'"
            ],
            "application/vnd.google.colaboratory.intrinsic+json": {
              "type": "string"
            }
          },
          "metadata": {},
          "execution_count": 13
        }
      ]
    },
    {
      "cell_type": "code",
      "source": [
        "def test(n):\n",
        "  if n == 1:\n",
        "    return n\n",
        "  elif n == 2:\n",
        "    return n\n",
        "  elif n == 3 or n % 3 ==0 :\n",
        "    return 'Fizz'\n",
        "  elif n == 5:\n",
        "    return 'Buzz'\n",
        "  elif n % 3 == 0:\n",
        "    return 'Fizz'"
      ],
      "metadata": {
        "id": "gCg5sT1Xf451"
      },
      "execution_count": null,
      "outputs": []
    },
    {
      "cell_type": "code",
      "source": [
        "test(2)"
      ],
      "metadata": {
        "colab": {
          "base_uri": "https://localhost:8080/"
        },
        "id": "kw9DZaHdgAmS",
        "outputId": "bab99256-8e5f-4a79-d4ca-c144d0c67a1f"
      },
      "execution_count": null,
      "outputs": [
        {
          "output_type": "execute_result",
          "data": {
            "text/plain": [
              "2"
            ]
          },
          "metadata": {},
          "execution_count": 15
        }
      ]
    },
    {
      "cell_type": "code",
      "source": [
        "test(3)"
      ],
      "metadata": {
        "colab": {
          "base_uri": "https://localhost:8080/",
          "height": 36
        },
        "id": "hjQFubklgB93",
        "outputId": "56017115-8ec0-4f7c-cbbb-100058d3eef6"
      },
      "execution_count": null,
      "outputs": [
        {
          "output_type": "execute_result",
          "data": {
            "text/plain": [
              "'Fizz'"
            ],
            "application/vnd.google.colaboratory.intrinsic+json": {
              "type": "string"
            }
          },
          "metadata": {},
          "execution_count": 16
        }
      ]
    },
    {
      "cell_type": "code",
      "source": [
        "test(6)"
      ],
      "metadata": {
        "colab": {
          "base_uri": "https://localhost:8080/",
          "height": 36
        },
        "id": "45ysEFoTgCzn",
        "outputId": "4d699802-0eaa-4fb8-d90b-bc7df69e29b2"
      },
      "execution_count": null,
      "outputs": [
        {
          "output_type": "execute_result",
          "data": {
            "text/plain": [
              "'Fizz'"
            ],
            "application/vnd.google.colaboratory.intrinsic+json": {
              "type": "string"
            }
          },
          "metadata": {},
          "execution_count": 17
        }
      ]
    },
    {
      "cell_type": "code",
      "source": [
        "def test(n):\n",
        "  if n == 1:\n",
        "    return n\n",
        "  elif n == 2:\n",
        "    return n\n",
        "  elif n % 3 == 0 and n % 5 ==0:\n",
        "    return 'FizzBuzz'\n",
        "  elif n == 3 or n % 3 ==0:\n",
        "    return 'Fizz'\n",
        "  elif n == 5 or n % 5 == 0:\n",
        "    return 'Buzz'"
      ],
      "metadata": {
        "id": "8d535SeggEEF"
      },
      "execution_count": null,
      "outputs": []
    },
    {
      "cell_type": "code",
      "source": [
        "test(1)"
      ],
      "metadata": {
        "colab": {
          "base_uri": "https://localhost:8080/"
        },
        "id": "9rFazRTRgtsj",
        "outputId": "4db46d2d-6b72-46ed-a7fe-d5b47adeaf5a"
      },
      "execution_count": null,
      "outputs": [
        {
          "output_type": "execute_result",
          "data": {
            "text/plain": [
              "1"
            ]
          },
          "metadata": {},
          "execution_count": 19
        }
      ]
    },
    {
      "cell_type": "code",
      "source": [
        "test(2)"
      ],
      "metadata": {
        "colab": {
          "base_uri": "https://localhost:8080/"
        },
        "id": "kimIxXE-gu04",
        "outputId": "aa69e031-5a6d-483e-edf5-0d00b8bdcee4"
      },
      "execution_count": null,
      "outputs": [
        {
          "output_type": "execute_result",
          "data": {
            "text/plain": [
              "2"
            ]
          },
          "metadata": {},
          "execution_count": 20
        }
      ]
    },
    {
      "cell_type": "code",
      "source": [
        "test(3)"
      ],
      "metadata": {
        "colab": {
          "base_uri": "https://localhost:8080/",
          "height": 36
        },
        "id": "s2UO-aqVgwCn",
        "outputId": "4ef97643-da7f-42d3-d335-97001ab11b7c"
      },
      "execution_count": null,
      "outputs": [
        {
          "output_type": "execute_result",
          "data": {
            "text/plain": [
              "'Fizz'"
            ],
            "application/vnd.google.colaboratory.intrinsic+json": {
              "type": "string"
            }
          },
          "metadata": {},
          "execution_count": 21
        }
      ]
    },
    {
      "cell_type": "code",
      "source": [
        "test(5)"
      ],
      "metadata": {
        "colab": {
          "base_uri": "https://localhost:8080/",
          "height": 36
        },
        "id": "mn6uPTmdgw_1",
        "outputId": "c9947d32-e083-4aab-968d-e6d55d2fac00"
      },
      "execution_count": null,
      "outputs": [
        {
          "output_type": "execute_result",
          "data": {
            "text/plain": [
              "'Buzz'"
            ],
            "application/vnd.google.colaboratory.intrinsic+json": {
              "type": "string"
            }
          },
          "metadata": {},
          "execution_count": 22
        }
      ]
    },
    {
      "cell_type": "code",
      "source": [
        "test(10)"
      ],
      "metadata": {
        "colab": {
          "base_uri": "https://localhost:8080/",
          "height": 36
        },
        "id": "vBkhIxzmgykR",
        "outputId": "7e4052cd-9fbe-4d6e-b26f-181fa8b06025"
      },
      "execution_count": null,
      "outputs": [
        {
          "output_type": "execute_result",
          "data": {
            "text/plain": [
              "'Buzz'"
            ],
            "application/vnd.google.colaboratory.intrinsic+json": {
              "type": "string"
            }
          },
          "metadata": {},
          "execution_count": 23
        }
      ]
    },
    {
      "cell_type": "code",
      "source": [
        "test(12)"
      ],
      "metadata": {
        "colab": {
          "base_uri": "https://localhost:8080/",
          "height": 36
        },
        "id": "o9ifULpNgz4_",
        "outputId": "b910bed6-6cac-4e9e-f0d8-896939eaf9b9"
      },
      "execution_count": null,
      "outputs": [
        {
          "output_type": "execute_result",
          "data": {
            "text/plain": [
              "'Fizz'"
            ],
            "application/vnd.google.colaboratory.intrinsic+json": {
              "type": "string"
            }
          },
          "metadata": {},
          "execution_count": 24
        }
      ]
    },
    {
      "cell_type": "code",
      "source": [
        "test(15)"
      ],
      "metadata": {
        "id": "yuUDkBmXg2av",
        "outputId": "247ef3dc-c370-4fc1-a44c-f08d520b817f",
        "colab": {
          "base_uri": "https://localhost:8080/",
          "height": 36
        }
      },
      "execution_count": null,
      "outputs": [
        {
          "output_type": "execute_result",
          "data": {
            "text/plain": [
              "'FizzBuzz'"
            ],
            "application/vnd.google.colaboratory.intrinsic+json": {
              "type": "string"
            }
          },
          "metadata": {},
          "execution_count": 25
        }
      ]
    },
    {
      "cell_type": "code",
      "source": [],
      "metadata": {
        "id": "WM_zj-bsg3xA"
      },
      "execution_count": null,
      "outputs": []
    }
  ]
}